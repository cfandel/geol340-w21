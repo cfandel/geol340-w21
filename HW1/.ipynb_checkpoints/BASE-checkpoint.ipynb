{
 "cells": [
  {
   "cell_type": "markdown",
   "metadata": {},
   "source": [
    "# HW1: Simple base model\n",
    "\n",
    "### Input files needed:\n",
    "- topography.csv - grid of land surface elevations \n",
    "- watershed.csv - grid of no-flow cells indicating the watershed boundary\n",
    "\n",
    "### MODFLOW packages used:\n",
    "- DIS - Discretization input\n",
    "- BAS - Basic\n",
    "- LPF - Layer-Property Flow\n",
    "- OC  - Output Control\n",
    "- PCG - Preconditioned Conjugate Gradient\n",
    "- RCH - Recharge\n",
    "    \n",
    "### Model description:\n",
    "This is a steady-state model of the watershed shown below.\n",
    "\n",
    "The model has 50x50 cells, each measuring 1000 m in x and in y.  \n",
    "There are two homogeneous, isotropic layers. \n",
    "The model has a bottom elevation of 0 m (this is the datum elevation) and a top elevation that corresponds to the land surface elevation.\n",
    "The land surface elevation in meters above the datum is provided in the topography.csv file.\n",
    "The boundary between the two layers is flat and is at an elevation of 50 m above the datum.\n",
    "The porosity is 0.10, specific yield is 0.10, and storage coefficient is 0.0001. \n",
    "The hydraulic conductivity is 10 m/day in all three principal directions (x,y,z).\n",
    "\n",
    "The edges of the watershed are bounded by impermeable bedrock on three sides.  These are represented as no-flow cells (a type of boundary condition) provided by the watershed.csv file.\n",
    "The right (eastern) boundary has a constant head of 70 m relative to the datum.\n",
    "\n",
    "Recharge occurs at a rate of 4E-5 m/day in the leftmost (western) 15 columns and is zero elsewhere.  "
   ]
  },
  {
   "cell_type": "markdown",
   "metadata": {},
   "source": [
    "## Import Python packages"
   ]
  },
  {
   "cell_type": "code",
   "execution_count": 46,
   "metadata": {},
   "outputs": [],
   "source": [
    "import os\n",
    "import numpy as np\n",
    "import numpy.ma as ma\n",
    "import csv                                             \n",
    "import flopy\n",
    "import flopy.utils.binaryfile as bf\n",
    "import matplotlib\n",
    "import matplotlib.pyplot as plt\n",
    "from matplotlib import cm\n",
    "from mpl_toolkits.axes_grid1 import make_axes_locatable\n",
    "from mpl_toolkits.mplot3d import Axes3D\n",
    "from matplotlib.ticker import LinearLocator, FormatStrFormatter"
   ]
  },
  {
   "cell_type": "markdown",
   "metadata": {},
   "source": [
    "## Model setup"
   ]
  },
  {
   "cell_type": "code",
   "execution_count": 2,
   "metadata": {},
   "outputs": [],
   "source": [
    "##Name:\n",
    "modelname = \"base\"\n",
    "\n",
    "##Grid:\n",
    "nrow = 50          #number of rows\n",
    "ncol = 50          #number of columns\n",
    "delr = 1000.       #width of each cell along rows (so really this is column width along x axis)\n",
    "delc = 1000.       #width of each cell along columns (so really this is row height along y axis)\n",
    "Lx = ncol*delr     #width of domain in x (across columns) = number of columns x cell width\n",
    "Ly = nrow*delc     #width of domain in y (across rows) = number of rows x cell height\n",
    "\n",
    "##Layers:\n",
    "nlay = 2                                                #number of layers\n",
    "layers = np.arange(nlay)                                #make array of layers\n",
    "ztop = np.genfromtxt('topography.csv', delimiter=',')   #import top elevation of top layer from csv file (dim: nrow,ncol)\n",
    "zbot = 0.                                               #bottom elevation of model (datum)\n",
    "botm = np.full((nlay,nrow,ncol),zbot)                   #make array of default cell bottom elevations for each cell in the model (dim:nlay,nrow,ncol)\n",
    "botm[0,:,:] = 50.                                       #replace the cell bottom elevations in the top layer (layer 0) with the elevation of the boundary between layers\n",
    "\n",
    "##Medium properties:\n",
    "#Hydraulic conductivity:\n",
    "#Kx and Ky:\n",
    "K_horiz = 10.    #horizontal hydraulic conductivity (along rows)\n",
    "K_ratio = 1.     #ratio of Ky/Kx (aka Kcol/Krow) - if Kx=Ky, ratio=1\n",
    "#Kz:\n",
    "K_vert = 10.     #vertical hydraulic conductivity (along z axis)\n",
    "\n",
    "#Porosity, storage, specific yield, confined/unconfined:\n",
    "n  = 0.1         #porosity\n",
    "Ss = 0.0001      #storage coefficient\n",
    "Sy = 0.1         #specific yield\n",
    "uncnf = 1        #if 0 then confined, if >0 then unconfined"
   ]
  },
  {
   "cell_type": "code",
   "execution_count": 3,
   "metadata": {},
   "outputs": [],
   "source": [
    "##Constant head boundary conditions:\n",
    "#if ibound < 0, constant head; if ibound = 0, inactive/no-flow/outside of watershed; if ibound > 0, active.\n",
    "\n",
    "#create arrays to indicate active cells and boundary conditions (ibound):\n",
    "ibound = np.full((nlay,nrow,ncol),0)                            #make array of zeros for default boundary conditions (dim:nlay,nrow,ncol)\n",
    "ibound[0,:,:] =  np.genfromtxt('watershed.csv', delimiter=',')  #import locations of active and inactive cells from csv (slice layer index, all rows, all cols)\n",
    "ibound[:,:,ncol-1] = -1     #replace rightmost (eastern) column (slice all layers, all rows, last column) with -1 to indicate constant head\n",
    "\n",
    "#create array of initial head values across the model and at the boundaries\n",
    "H_init = 70.                                #initial hydraulic head in meters\n",
    "strt = np.full((nlay, nrow, ncol), H_init)  #float (i.e. decimal) array, sets initial head in all cells to desired value"
   ]
  },
  {
   "cell_type": "code",
   "execution_count": 4,
   "metadata": {},
   "outputs": [],
   "source": [
    "## Recharge conditions:\n",
    "R = 4e-5                              #recharge rate [m/day]\n",
    "rech = np.zeros((nrow,ncol))          #make array of zeros for recharge (dim: nrow, ncol, no layers because recharge only happens in top layer)\n",
    "rech[:,0:15] = R                      #set recharge in the leftmost 15 columns to the desired recharge rate"
   ]
  },
  {
   "cell_type": "code",
   "execution_count": 5,
   "metadata": {},
   "outputs": [],
   "source": [
    "##Outputs:\n",
    "#this section usually does not change - we are telling the model which outputs to print\n",
    "\n",
    "oc_spd = {(0,0):['print head', 'print budget', 'save head', 'save budget']} #create a dictionary for stress period data, where key (0,0) is associated with value ['print...']\n",
    "ipakcb = 53    #unit to save cell-by-cell outputs to\n"
   ]
  },
  {
   "cell_type": "markdown",
   "metadata": {},
   "source": [
    "### Display summary of model inputs"
   ]
  },
  {
   "cell_type": "code",
   "execution_count": 6,
   "metadata": {
    "tags": []
   },
   "outputs": [
    {
     "name": "stdout",
     "output_type": "stream",
     "text": [
      "Model name: base\n",
      "    Model grid: 2 layers x 50 rows x 50 cols;  Cell dimensions: 1000.0m x 1000.0m\n",
      "    Storage properties: n = 0.1, Sy = 0.1, S = 0.0001\n",
      "    Initial head: H = 70.0 m\n",
      "    Recharge rate: R = 4e-05 m/day\n",
      "\n",
      "Array shapes:\n",
      "ztop (50, 50) ibound (2, 50, 50) strt (2, 50, 50) rech (50, 50)\n"
     ]
    },
    {
     "data": {
      "image/png": "[encoded data removed]",
      "text/plain": [
       "<Figure size 1440x864 with 8 Axes>"
      ]
     },
     "metadata": {
      "needs_background": "light"
     },
     "output_type": "display_data"
    }
   ],
   "source": [
    "#Print model summary (change run to 'y' to run, 'n' to skip):\n",
    "\n",
    "run = 'y'\n",
    "if run == 'y':\n",
    "    \n",
    "    #Print parameter values:\n",
    "    text = '''Model name: {}\n",
    "    Model grid: {} layers x {} rows x {} cols;  Cell dimensions: {}m x {}m\n",
    "    Storage properties: n = {}, Sy = {}, S = {}\n",
    "    Initial head: H = {} m\n",
    "    Recharge rate: R = {} m/day'''                                                #multi-line text to print\n",
    "    print(text.format(modelname, nlay,nrow,ncol, delr,delc, n,Sy,Ss, H_init, R))  #parameter values to fill curly brackets above with\n",
    "\n",
    "    #Print the dimensions of the arrays containing the parameters to check that they are correct:\n",
    "    print('\\nArray shapes:')                                                                       #print new line then text\n",
    "    print('ztop', ztop.shape, 'ibound', ibound.shape, 'strt', strt.shape, 'rech', rech.shape)      #print the name of each array, then its shape\n",
    "    \n",
    "    #Plot spatial distribution of parameters:\n",
    "    pars = [ztop,ibound[0,:,:],strt[0,:,:],rech]     #list the parameters we want to plot (we are only looking at top layer)\n",
    "    parnames = ['Surface elev [m]', 'Boundary conditions','Initial heads [m]','Recharge rate [m/day]'] #create list of names for parameters\n",
    "    f,ax = plt.subplots(nrows=1,ncols=len(pars),figsize=(20,12))  #create figure and axis objects with subplots for each parameter\n",
    "    for ipar in np.arange(len(pars)):                             #loop over parameter list indices\n",
    "        im = ax[ipar].imshow(pars[ipar][:,:])                     #plot map view of parameter distribution\n",
    "        divider = make_axes_locatable(ax[ipar])                   #make axes dividable (to add colorbar)\n",
    "        cax = divider.append_axes('bottom', size=\"5%\", pad=0.3)   #add an axis at the bottom for the colorbar\n",
    "        plt.colorbar(im, cax=cax, orientation='horizontal')       #plot the colorbar\n",
    "        ax[ipar].set_title(parnames[ipar])                        #label each parameter"
   ]
  },
  {
   "cell_type": "markdown",
   "metadata": {},
   "source": [
    "## Run model"
   ]
  },
  {
   "cell_type": "code",
   "execution_count": 7,
   "metadata": {},
   "outputs": [],
   "source": [
    "#Note: running this section multiple times without changing filenames (see block above) will overwrite the existing \n",
    "#files & generate a warning that existing packages are being replaced. This is fine.\n",
    "\n",
    "#Create model object:\n",
    "mf = flopy.modflow.Modflow(modelname, exe_name='mf2005')    #MODFLOW executable must be in same folder, named mf2005.exe\n",
    "    \n",
    "#Create objects for each package (see GHW1 notebook for details):\n",
    "dis = flopy.modflow.ModflowDis(mf, nlay, nrow, ncol, delr=delr, \n",
    "                               delc=delc, top=ztop, botm=botm)         #DIS (Discretization): creates model grid   \n",
    "bas = flopy.modflow.ModflowBas(mf, ibound=ibound, strt=strt)           #BAS (Basic): assigns head boundaries\n",
    "lpf = flopy.modflow.ModflowLpf(mf, laytyp=uncnf, chani=0, hk=K_horiz, hani=K_ratio, vka=K_vert, \n",
    "        ss=Ss, sy=Sy, storagecoefficient=False, ipakcb=ipakcb)            #LPF (Layer Property Flow): assigns flow props between cells\n",
    "oc = flopy.modflow.ModflowOc(mf, stress_period_data=oc_spd, compact=True) #OC (Output Control): Decides what outputs to save\n",
    "pcg = flopy.modflow.ModflowPcg(mf)                                        #PCG (Preconditioned Conjugate Gradient)\n",
    "rch = flopy.modflow.mfrch.ModflowRch(mf, rech=rech)                       #RCH (Recharge)"
   ]
  },
  {
   "cell_type": "code",
   "execution_count": 8,
   "metadata": {},
   "outputs": [
    {
     "name": "stdout",
     "output_type": "stream",
     "text": [
      "FloPy is using the following executable to run the model: .\\mf2005.EXE\n",
      "\n",
      "                                  MODFLOW-2005     \n",
      "    U.S. GEOLOGICAL SURVEY MODULAR FINITE-DIFFERENCE GROUND-WATER FLOW MODEL\n",
      "                             Version 1.12.00 2/3/2017                        \n",
      "\n",
      " Using NAME file: base.nam \n",
      " Run start date and time (yyyy/mm/dd hh:mm:ss): 2021/11/28 11:32:10\n",
      "\n",
      " Solving:  Stress period:     1    Time step:     1    Ground-Water Flow Eqn.\n",
      " Run end date and time (yyyy/mm/dd hh:mm:ss): 2021/11/28 11:32:10\n",
      " Elapsed run time:  0.055 Seconds\n",
      "\n",
      "  Normal termination of simulation\n"
     ]
    }
   ],
   "source": [
    "#Write MODFLOW input files:\n",
    "mf.write_input()\n",
    "\n",
    "#Run MODFLOW:\n",
    "success, buff = mf.run_model()                 #you should see \"normal termination of simulation\" printed below"
   ]
  },
  {
   "cell_type": "code",
   "execution_count": 9,
   "metadata": {},
   "outputs": [
    {
     "ename": "AttributeError",
     "evalue": "module 'flopy.modpath' has no attribute 'Modpath'",
     "output_type": "error",
     "traceback": [
      "\u001b[1;31m---------------------------------------------------------------------------\u001b[0m",
      "\u001b[1;31mAttributeError\u001b[0m                            Traceback (most recent call last)",
      "\u001b[1;32m~\\AppData\\Local\\Temp/ipykernel_22432/2296945451.py\u001b[0m in \u001b[0;36m<module>\u001b[1;34m\u001b[0m\n\u001b[0;32m      1\u001b[0m \u001b[1;31m#Run MODPATH for particle tracking:\u001b[0m\u001b[1;33m\u001b[0m\u001b[1;33m\u001b[0m\u001b[1;33m\u001b[0m\u001b[0m\n\u001b[1;32m----> 2\u001b[1;33m mp = flopy.modpath.Modpath(modelname=modelname+'_mp', exe_name='mp6.exe', \n\u001b[0m\u001b[0;32m      3\u001b[0m         \u001b[0mmodflowmodel\u001b[0m\u001b[1;33m=\u001b[0m\u001b[0mmf\u001b[0m\u001b[1;33m,\u001b[0m \u001b[0mmodel_ws\u001b[0m\u001b[1;33m=\u001b[0m\u001b[1;32mNone\u001b[0m\u001b[1;33m,\u001b[0m \u001b[0mdis_file\u001b[0m\u001b[1;33m=\u001b[0m\u001b[0mmodelname\u001b[0m\u001b[1;33m+\u001b[0m\u001b[1;34m'.dis'\u001b[0m\u001b[1;33m,\u001b[0m\u001b[1;33m\u001b[0m\u001b[1;33m\u001b[0m\u001b[0m\n\u001b[0;32m      4\u001b[0m         head_file=modelname+'.hds', budget_file=modelname+'.cbc')                 #create MODPATH model object\n\u001b[0;32m      5\u001b[0m mpb = flopy.modpath.ModpathBas(mp, hdry=mf.lpf.hdry, laytyp=mf.lpf.laytyp, \n",
      "\u001b[1;31mAttributeError\u001b[0m: module 'flopy.modpath' has no attribute 'Modpath'"
     ]
    }
   ],
   "source": [
    "#Run MODPATH for particle tracking:\n",
    "mp = flopy.modpath.Modpath(modelname=modelname+'_mp', exe_name='mp6.exe', \n",
    "        modflowmodel=mf, model_ws=None, dis_file=modelname+'.dis', \n",
    "        head_file=modelname+'.hds', budget_file=modelname+'.cbc')                 #create MODPATH model object\n",
    "mpb = flopy.modpath.ModpathBas(mp, hdry=mf.lpf.hdry, laytyp=mf.lpf.laytyp, \n",
    "        ibound=ibound, prsity=n)                                                  #create MODPATH BAS object\n",
    "sim = mp.create_mpsim(trackdir='forward', simtype='pathline', packages='RCH')     #create MODPATH simulation\n",
    "\n",
    "mp.write_input()                 #write MODPATH input files\n",
    "mp.run_model(silent=False)       #run MODPATH\n"
   ]
  },
  {
   "cell_type": "markdown",
   "metadata": {},
   "source": [
    "## Post-process results"
   ]
  },
  {
   "cell_type": "code",
   "execution_count": 11,
   "metadata": {},
   "outputs": [
    {
     "ename": "FileNotFoundError",
     "evalue": "[Errno 2] No such file or directory: 'base_mp.mpend'",
     "output_type": "error",
     "traceback": [
      "\u001b[1;31m---------------------------------------------------------------------------\u001b[0m",
      "\u001b[1;31mFileNotFoundError\u001b[0m                         Traceback (most recent call last)",
      "\u001b[1;32m~\\AppData\\Local\\Temp/ipykernel_22432/2193862007.py\u001b[0m in \u001b[0;36m<module>\u001b[1;34m\u001b[0m\n\u001b[0;32m     14\u001b[0m \u001b[1;33m\u001b[0m\u001b[0m\n\u001b[0;32m     15\u001b[0m \u001b[1;31m#Get MODPATH outputs:\u001b[0m\u001b[1;33m\u001b[0m\u001b[1;33m\u001b[0m\u001b[1;33m\u001b[0m\u001b[0m\n\u001b[1;32m---> 16\u001b[1;33m \u001b[0mendobj\u001b[0m \u001b[1;33m=\u001b[0m \u001b[0mflopy\u001b[0m\u001b[1;33m.\u001b[0m\u001b[0mutils\u001b[0m\u001b[1;33m.\u001b[0m\u001b[0mEndpointFile\u001b[0m\u001b[1;33m(\u001b[0m\u001b[0mmodelname\u001b[0m\u001b[1;33m+\u001b[0m\u001b[1;34m'_mp.mpend'\u001b[0m\u001b[1;33m)\u001b[0m   \u001b[1;31m#get the MODPATH endpoint file\u001b[0m\u001b[1;33m\u001b[0m\u001b[1;33m\u001b[0m\u001b[0m\n\u001b[0m\u001b[0;32m     17\u001b[0m \u001b[0mept\u001b[0m \u001b[1;33m=\u001b[0m \u001b[0mendobj\u001b[0m\u001b[1;33m.\u001b[0m\u001b[0mget_alldata\u001b[0m\u001b[1;33m(\u001b[0m\u001b[1;33m)\u001b[0m                                 \u001b[1;31m#import the endpoint data to FloPy\u001b[0m\u001b[1;33m\u001b[0m\u001b[1;33m\u001b[0m\u001b[0m\n\u001b[0;32m     18\u001b[0m \u001b[1;31m#convert ept to an array:\u001b[0m\u001b[1;33m\u001b[0m\u001b[1;33m\u001b[0m\u001b[1;33m\u001b[0m\u001b[0m\n",
      "\u001b[1;32m~\\Anaconda3\\envs\\geol340\\lib\\site-packages\\flopy\\utils\\modpathfile.py\u001b[0m in \u001b[0;36m__init__\u001b[1;34m(self, filename, verbose)\u001b[0m\n\u001b[0;32m    852\u001b[0m         \u001b[0mself\u001b[0m\u001b[1;33m.\u001b[0m\u001b[0mfname\u001b[0m \u001b[1;33m=\u001b[0m \u001b[0mfilename\u001b[0m\u001b[1;33m\u001b[0m\u001b[1;33m\u001b[0m\u001b[0m\n\u001b[0;32m    853\u001b[0m         \u001b[0mself\u001b[0m\u001b[1;33m.\u001b[0m\u001b[0mverbose\u001b[0m \u001b[1;33m=\u001b[0m \u001b[0mverbose\u001b[0m\u001b[1;33m\u001b[0m\u001b[1;33m\u001b[0m\u001b[0m\n\u001b[1;32m--> 854\u001b[1;33m         \u001b[0mself\u001b[0m\u001b[1;33m.\u001b[0m\u001b[0m_build_index\u001b[0m\u001b[1;33m(\u001b[0m\u001b[1;33m)\u001b[0m\u001b[1;33m\u001b[0m\u001b[1;33m\u001b[0m\u001b[0m\n\u001b[0m\u001b[0;32m    855\u001b[0m         \u001b[0mself\u001b[0m\u001b[1;33m.\u001b[0m\u001b[0mdtype\u001b[0m \u001b[1;33m=\u001b[0m \u001b[0mself\u001b[0m\u001b[1;33m.\u001b[0m\u001b[0m_get_dtypes\u001b[0m\u001b[1;33m(\u001b[0m\u001b[1;33m)\u001b[0m\u001b[1;33m\u001b[0m\u001b[1;33m\u001b[0m\u001b[0m\n\u001b[0;32m    856\u001b[0m         self._data = loadtxt(\n",
      "\u001b[1;32m~\\Anaconda3\\envs\\geol340\\lib\\site-packages\\flopy\\utils\\modpathfile.py\u001b[0m in \u001b[0;36m_build_index\u001b[1;34m(self)\u001b[0m\n\u001b[0;32m    878\u001b[0m         \"\"\"\n\u001b[0;32m    879\u001b[0m         \u001b[0mself\u001b[0m\u001b[1;33m.\u001b[0m\u001b[0mskiprows\u001b[0m \u001b[1;33m=\u001b[0m \u001b[1;36m0\u001b[0m\u001b[1;33m\u001b[0m\u001b[1;33m\u001b[0m\u001b[0m\n\u001b[1;32m--> 880\u001b[1;33m         \u001b[0mself\u001b[0m\u001b[1;33m.\u001b[0m\u001b[0mfile\u001b[0m \u001b[1;33m=\u001b[0m \u001b[0mopen\u001b[0m\u001b[1;33m(\u001b[0m\u001b[0mself\u001b[0m\u001b[1;33m.\u001b[0m\u001b[0mfname\u001b[0m\u001b[1;33m,\u001b[0m \u001b[1;34m\"r\"\u001b[0m\u001b[1;33m)\u001b[0m\u001b[1;33m\u001b[0m\u001b[1;33m\u001b[0m\u001b[0m\n\u001b[0m\u001b[0;32m    881\u001b[0m         \u001b[0midx\u001b[0m \u001b[1;33m=\u001b[0m \u001b[1;36m0\u001b[0m\u001b[1;33m\u001b[0m\u001b[1;33m\u001b[0m\u001b[0m\n\u001b[0;32m    882\u001b[0m         \u001b[1;32mwhile\u001b[0m \u001b[1;32mTrue\u001b[0m\u001b[1;33m:\u001b[0m\u001b[1;33m\u001b[0m\u001b[1;33m\u001b[0m\u001b[0m\n",
      "\u001b[1;31mFileNotFoundError\u001b[0m: [Errno 2] No such file or directory: 'base_mp.mpend'"
     ]
    }
   ],
   "source": [
    "##Get outputs:\n",
    "#This section usually doesn't change much - ignore the FutureWarning\n",
    "\n",
    "#Get MODFLOW outputs:\n",
    "hds = bf.HeadFile(modelname+'.hds')    #reads the binary head file\n",
    "times = hds.get_times()                #returns a list of timesteps\n",
    "head = hds.get_data(totim=times[-1])   #returns a numpy array of heads for specified time (last timestep)\n",
    "#Get cell-by-cell outputs from cbb:\n",
    "#string options are in the list file under output control (make sure to include spaces!)\n",
    "cbb = bf.CellBudgetFile(modelname+'.cbc')   #reads the cell budget file    \n",
    "kstpkper_list = cbb.get_kstpkper()          #returns a list of stress periods & timesteps\n",
    "frf = cbb.get_data(text='FLOW RIGHT FACE', totim=times[-1])[0]      #returns an array of flow rates for right face of cells\n",
    "fff = cbb.get_data(text='FLOW FRONT FACE', totim=times[-1])[0]      #returns an array of flow rates for front face of cells\n",
    "\n",
    "#Get MODPATH outputs:    \n",
    "endobj = flopy.utils.EndpointFile(modelname+'_mp.mpend')   #get the MODPATH endpoint file\n",
    "ept = endobj.get_alldata()                                 #import the endpoint data to FloPy\n",
    "#convert ept to an array:\n",
    "ept_array = np.zeros((len(ept),len(ept[0])-1))             #create an empty array the same dimensions as the ept file\n",
    "for row in np.arange(len(ept)):                            #loop over the ept file rows\n",
    "    for col in np.arange(len(ept[0])-1):                   #loop over the ept file columns (except the last one)\n",
    "        ept_array[row,col] = ept[row][col]                 #assign each ept item to the array\n",
    "        "
   ]
  },
  {
   "cell_type": "code",
   "execution_count": 20,
   "metadata": {
    "tags": []
   },
   "outputs": [
    {
     "name": "stdout",
     "output_type": "stream",
     "text": [
      "             MASS BALANCE \n",
      "\n",
      "              STORAGE_IN' \t        0.0\n",
      "        CONSTANT_HEAD_IN' \t        0.0\n",
      "             RECHARGE_IN' \t    15400.0\n",
      "                TOTAL_IN' \t    15400.0\n",
      "             STORAGE_OUT' \t       -0.0\n",
      "       CONSTANT_HEAD_OUT' \t   -15400.0\n",
      "            RECHARGE_OUT' \t       -0.0\n",
      "               TOTAL_OUT' \t   -15400.0\n",
      "                  IN-OUT' \t        0.0\n",
      "     PERCENT_DISCREPANCY' \t        0.0\n",
      "\n",
      "timesteps: [1.0]\n",
      "stress periods: [(0, 0)]\n"
     ]
    }
   ],
   "source": [
    "#Display water budget:\n",
    "\n",
    "#Get water budget information:\n",
    "lst = flopy.utils.MfListBudget(modelname+'.list')       #read list file\n",
    "budget = lst.get_data()                                 #get cumulative water budget for last timestep\n",
    "labels = [str(budget[i][2])[2:] for i in np.arange(len(budget))] #get and trim labels for each budget item (one-line for loop)\n",
    "vals = [budget[i][1] for i in np.arange(len(budget))]   #get values for each budget item\n",
    "\n",
    "#Print water budget:\n",
    "print('%25s'%'MASS BALANCE','\\n')   #print right-justified header taking up 25 spaces, then go to new line\n",
    "b=[print(\"%25s\"%labels[i],'\\t',\"%10s\"%vals[i]) for i in np.arange(len(budget))]  #iterate to print each item in buget\n",
    "\n",
    "#Print timesteps:\n",
    "print('\\ntimesteps:',times)\n",
    "print('stress periods:', kstpkper_list)"
   ]
  },
  {
   "cell_type": "code",
   "execution_count": 26,
   "metadata": {},
   "outputs": [
    {
     "name": "stdout",
     "output_type": "stream",
     "text": [
      "[-999.99      70.        72.04083 ...  121.67077  121.68782  121.68874]\n",
      "[70.0 72.04083251953125 72.04364013671875 ... 121.68782043457031\n",
      " 121.6887435913086 --]\n"
     ]
    }
   ],
   "source": [
    "print(np.unique(head))\n",
    "head_mx = ma.masked_values (head, -999.99)\n",
    "print(np.unique(head_mx))"
   ]
  },
  {
   "cell_type": "code",
   "execution_count": 42,
   "metadata": {},
   "outputs": [
    {
     "name": "stdout",
     "output_type": "stream",
     "text": [
      "[-999.99      70.        72.04083 ...  121.67077  121.68782  121.68874]\n",
      "[70.0 72.04083251953125 72.04364013671875 ... 121.68782043457031\n",
      " 121.6887435913086 --]\n"
     ]
    },
    {
     "data": {
      "text/plain": [
       "<matplotlib.colorbar.Colorbar at 0x25746b4d4c0>"
      ]
     },
     "execution_count": 42,
     "metadata": {},
     "output_type": "execute_result"
    },
    {
     "data": {
      "image/png": "[encoded data removed]",
      "text/plain": [
       "<Figure size 432x432 with 2 Axes>"
      ]
     },
     "metadata": {
      "needs_background": "light"
     },
     "output_type": "display_data"
    }
   ],
   "source": [
    "#Plot contour map of heads in Layer 1 at last timestep:\n",
    "\n",
    "#Make a version of the head array where no-flow cells (cells outside the watershed boundary) are masked (invisible):\n",
    "print(np.unique(head))                      #print a list of the unique values in the array (-999.99 indicates no-flow cells)\n",
    "head_mx = ma.masked_values (head, -999.99)  #create a masked array where all cells with the value -999.99 are hidden\n",
    "print(np.unique(head_mx))                    #print a list of unique values in the masked array (the no-flow cells are no longer visible)\n",
    "      \n",
    "#Create figure & plot data:\n",
    "f,ax = plt.subplots(1,1,figsize=(6,6))        #create & return figure & axes at position (row, col) of size 6x6 inches\n",
    "im = plt.imshow(head_mx[0,:,:], cmap='Greys') #plots heads as colors (all rows & columns in layer 0 of masked array)\n",
    "c = plt.contour(head_mx[0,:,:], )             #plots heads as contours (all rows & columns in layer 0 of masked array)\n",
    "\n",
    "#Labels:\n",
    "plt.clabel(c, fmt='%1.2f', rightside_up=False)   #adds contour labels as floats with 2 decimal places, not oriented for reading   \n",
    "plt.title(modelname+' heads (m)')                #adds a title\n",
    "\n",
    "#Format grid & axes:\n",
    "major_ticks = np.arange(0,nrow,5)         #creates an array for major tick marks every 5\n",
    "minor_ticks = np.arange(0,nrow)           #creates an array for minor tick marks every 1\n",
    "\n",
    "ax.set_xticks(major_ticks)             #sets major ticks\n",
    "ax.set_xticks(minor_ticks, minor=True) #sets minor ticks\n",
    "ax.set_yticks(major_ticks)\n",
    "ax.set_yticks(minor_ticks, minor=True)\n",
    "\n",
    "ax1.grid(which='both')                  #turns grid on for both major and minor ticks\n",
    "\n",
    "#Add colorbar:\n",
    "divider = make_axes_locatable(ax)                         #make axes dividable (to add colorbar)\n",
    "cax = divider.append_axes('bottom', size=\"5%\", pad=0.3)   #add an axis at the bottom for the colorbar\n",
    "plt.colorbar(im, cax=cax, orientation='horizontal')       #plot the colorbar"
   ]
  },
  {
   "cell_type": "code",
   "execution_count": 69,
   "metadata": {},
   "outputs": [
    {
     "data": {
      "text/plain": [
       "<matplotlib.legend.Legend at 0x2574bcb4130>"
      ]
     },
     "execution_count": 69,
     "metadata": {},
     "output_type": "execute_result"
    },
    {
     "data": {
      "image/png": "[encoded data removed]",
      "text/plain": [
       "<Figure size 1080x360 with 1 Axes>"
      ]
     },
     "metadata": {
      "needs_background": "light"
     },
     "output_type": "display_data"
    }
   ],
   "source": [
    "#Plot cross-section of heads along center row:\n",
    "    \n",
    "#Create figure & plot data:\n",
    "f,ax = plt.subplots(1,1,figsize=(15,5))  #create a figure object of width 15 in and height 5 in, with two subplots\n",
    "ax.plot(np.arange(ncol), head_mx[0,nrow//2,:], color='blue',  label='head (layer 0)') #plots heads at layer 0, center row, all columns\n",
    "\n",
    "#Display layers:\n",
    "ax.plot(np.arange(ncol), ztop[nrow//2,:],   color='k', label='land surface')    #plot top elevation of top layer (land surface)\n",
    "ax.plot(np.arange(ncol), botm[0,nrow//2,:], color='k', linestyle='--', label='layer boundary')  #plot bottom elevation of top layer\n",
    "\n",
    "#Format grid & axes:\n",
    "major_ticks = np.arange(0,nrow,5)      #create array for major tick marks every 5\n",
    "minor_ticks = np.arange(0,nrow)        #create array for minor tick marks every 1\n",
    "ax.set_xticks(major_ticks)             #set major ticks\n",
    "ax.set_xticks(minor_ticks, minor=True) #set minor ticks\n",
    "ax.grid(which='both')                  #turn grid on for both major and minor ticks  \n",
    "ax.set_ylim(bottom=zbot, top=np.amax(ztop))       #sets z limits to model bottom and highest top elev\n",
    "ax.set_ylabel('elevation (m)')         #add axis label\n",
    "ax.set_xlabel('columns')               #add axis label\n",
    "\n",
    "#Legend:\n",
    "ax.legend()"
   ]
  },
  {
   "cell_type": "code",
   "execution_count": 44,
   "metadata": {},
   "outputs": [
    {
     "ename": "NameError",
     "evalue": "name 'ept_array' is not defined",
     "output_type": "error",
     "traceback": [
      "\u001b[1;31m---------------------------------------------------------------------------\u001b[0m",
      "\u001b[1;31mNameError\u001b[0m                                 Traceback (most recent call last)",
      "\u001b[1;32m~\\AppData\\Local\\Temp/ipykernel_22432/3377837569.py\u001b[0m in \u001b[0;36m<module>\u001b[1;34m\u001b[0m\n\u001b[0;32m      7\u001b[0m \u001b[1;33m\u001b[0m\u001b[0m\n\u001b[0;32m      8\u001b[0m     \u001b[0mf4\u001b[0m\u001b[1;33m,\u001b[0m\u001b[0max4\u001b[0m \u001b[1;33m=\u001b[0m \u001b[0mplt\u001b[0m\u001b[1;33m.\u001b[0m\u001b[0msubplots\u001b[0m\u001b[1;33m(\u001b[0m\u001b[1;36m1\u001b[0m\u001b[1;33m,\u001b[0m\u001b[1;36m1\u001b[0m\u001b[1;33m,\u001b[0m\u001b[0mfigsize\u001b[0m\u001b[1;33m=\u001b[0m\u001b[1;33m(\u001b[0m\u001b[1;36m6\u001b[0m\u001b[1;33m,\u001b[0m\u001b[1;36m6\u001b[0m\u001b[1;33m)\u001b[0m\u001b[1;33m)\u001b[0m                       \u001b[1;31m#create & return figure & axes at position (row, col) of size 6x6 inches\u001b[0m\u001b[1;33m\u001b[0m\u001b[1;33m\u001b[0m\u001b[0m\n\u001b[1;32m----> 9\u001b[1;33m     \u001b[0mplt\u001b[0m\u001b[1;33m.\u001b[0m\u001b[0mscatter\u001b[0m\u001b[1;33m(\u001b[0m\u001b[0mept_array\u001b[0m\u001b[1;33m[\u001b[0m\u001b[1;33m:\u001b[0m\u001b[1;33m,\u001b[0m\u001b[1;36m8\u001b[0m\u001b[1;33m]\u001b[0m\u001b[1;33m,\u001b[0m\u001b[0mept_array\u001b[0m\u001b[1;33m[\u001b[0m\u001b[1;33m:\u001b[0m\u001b[1;33m,\u001b[0m\u001b[1;36m7\u001b[0m\u001b[1;33m]\u001b[0m\u001b[1;33m,\u001b[0m\u001b[0mmarker\u001b[0m\u001b[1;33m=\u001b[0m\u001b[1;34m'.'\u001b[0m\u001b[1;33m,\u001b[0m\u001b[0mc\u001b[0m\u001b[1;33m=\u001b[0m\u001b[1;34m'k'\u001b[0m\u001b[1;33m)\u001b[0m    \u001b[1;31m#plot start locations in black\u001b[0m\u001b[1;33m\u001b[0m\u001b[1;33m\u001b[0m\u001b[0m\n\u001b[0m\u001b[0;32m     10\u001b[0m     \u001b[0mplt\u001b[0m\u001b[1;33m.\u001b[0m\u001b[0mscatter\u001b[0m\u001b[1;33m(\u001b[0m\u001b[0mept_array\u001b[0m\u001b[1;33m[\u001b[0m\u001b[1;33m:\u001b[0m\u001b[1;33m,\u001b[0m\u001b[1;36m20\u001b[0m\u001b[1;33m]\u001b[0m\u001b[1;33m,\u001b[0m\u001b[0mept_array\u001b[0m\u001b[1;33m[\u001b[0m\u001b[1;33m:\u001b[0m\u001b[1;33m,\u001b[0m\u001b[1;36m19\u001b[0m\u001b[1;33m]\u001b[0m\u001b[1;33m,\u001b[0m\u001b[0mmarker\u001b[0m\u001b[1;33m=\u001b[0m\u001b[1;34m'.'\u001b[0m\u001b[1;33m)\u001b[0m        \u001b[1;31m#plot end locations\u001b[0m\u001b[1;33m\u001b[0m\u001b[1;33m\u001b[0m\u001b[0m\n\u001b[0;32m     11\u001b[0m     \u001b[0mplt\u001b[0m\u001b[1;33m.\u001b[0m\u001b[0mtitle\u001b[0m\u001b[1;33m(\u001b[0m\u001b[1;34m'Particle end locations'\u001b[0m\u001b[1;33m)\u001b[0m                            \u001b[1;31m#add title\u001b[0m\u001b[1;33m\u001b[0m\u001b[1;33m\u001b[0m\u001b[0m\n",
      "\u001b[1;31mNameError\u001b[0m: name 'ept_array' is not defined"
     ]
    },
    {
     "data": {
      "image/png": "[encoded data removed]",
      "text/plain": [
       "<Figure size 432x432 with 1 Axes>"
      ]
     },
     "metadata": {
      "needs_background": "light"
     },
     "output_type": "display_data"
    }
   ],
   "source": [
    "#Plot endpoints of particles:\n",
    "#see https://pubs.usgs.gov/tm/6a41/pdf/TM_6A_41.pdf (p.33) \n",
    "#for information on what the columns of the endpoint file correspond to\n",
    "\n",
    "run = 'y'\n",
    "if run == 'y':\n",
    "\n",
    "    f4,ax4 = plt.subplots(1,1,figsize=(6,6))                       #create & return figure & axes at position (row, col) of size 6x6 inches\n",
    "    plt.scatter(ept_array[:,8],ept_array[:,7],marker='.',c='k')    #plot start locations in black\n",
    "    plt.scatter(ept_array[:,20],ept_array[:,19],marker='.')        #plot end locations\n",
    "    plt.title('Particle end locations')                            #add title\n"
   ]
  },
  {
   "cell_type": "markdown",
   "metadata": {},
   "source": [
    "### Export data"
   ]
  },
  {
   "cell_type": "code",
   "execution_count": 52,
   "metadata": {},
   "outputs": [],
   "source": [
    "np.savetxt('head_layer0.csv', head[0,:,:], delimiter=',')\n",
    "np.savetxt('head_layer1.csv', head[1,:,:], delimiter=',')"
   ]
  }
 ],
 "metadata": {
  "kernelspec": {
   "display_name": "Python 3 (ipykernel)",
   "language": "python",
   "name": "python3"
  },
  "language_info": {
   "codemirror_mode": {
    "name": "ipython",
    "version": 3
   },
   "file_extension": ".py",
   "mimetype": "text/x-python",
   "name": "python",
   "nbconvert_exporter": "python",
   "pygments_lexer": "ipython3",
   "version": "3.8.12"
  }
 },
 "nbformat": 4,
 "nbformat_minor": 4
}
